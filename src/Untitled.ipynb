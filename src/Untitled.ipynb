{
 "cells": [
  {
   "cell_type": "code",
   "execution_count": 5,
   "id": "4751fe2c",
   "metadata": {
    "scrolled": true
   },
   "outputs": [
    {
     "name": "stdout",
     "output_type": "stream",
     "text": [
      "Collecting jiagu\n",
      "  Downloading jiagu-0.2.3.tar.gz (53.8 MB)\n",
      "Using legacy 'setup.py install' for jiagu, since package 'wheel' is not installed.\n",
      "Installing collected packages: jiagu\n",
      "    Running setup.py install for jiagu: started\n",
      "    Running setup.py install for jiagu: finished with status 'done'\n",
      "Successfully installed jiagu-0.2.3\n",
      "Note: you may need to restart the kernel to use updated packages.\n"
     ]
    },
    {
     "name": "stderr",
     "output_type": "stream",
     "text": [
      "WARNING: You are using pip version 21.1.1; however, version 21.3.1 is available.\n",
      "You should consider upgrading via the 'c:\\python39\\python.exe -m pip install --upgrade pip' command.\n"
     ]
    }
   ],
   "source": [
    "pip install -U jiagu"
   ]
  },
  {
   "cell_type": "code",
   "execution_count": 6,
   "id": "5f90b85b",
   "metadata": {},
   "outputs": [],
   "source": [
    "import jiagu"
   ]
  },
  {
   "cell_type": "code",
   "execution_count": 8,
   "id": "86cbcbd4",
   "metadata": {},
   "outputs": [
    {
     "name": "stdout",
     "output_type": "stream",
     "text": [
      "厦门明天会不会下雨\n"
     ]
    }
   ],
   "source": [
    "text = '厦门明天会不会下雨'\n",
    "print(text)"
   ]
  },
  {
   "cell_type": "code",
   "execution_count": 9,
   "id": "70c99022",
   "metadata": {},
   "outputs": [
    {
     "name": "stdout",
     "output_type": "stream",
     "text": [
      "['厦门', '明天', '会不会', '下雨']\n"
     ]
    }
   ],
   "source": [
    "words = jiagu.seg(text)\n",
    "print(words)"
   ]
  },
  {
   "cell_type": "code",
   "execution_count": 11,
   "id": "9be586eb",
   "metadata": {},
   "outputs": [
    {
     "name": "stdout",
     "output_type": "stream",
     "text": [
      "['ns', 'nt', 'v', 'v']\n"
     ]
    }
   ],
   "source": [
    "pos = jiagu.pos(words)\n",
    "print(pos)"
   ]
  },
  {
   "cell_type": "code",
   "execution_count": 12,
   "id": "58c3da70",
   "metadata": {},
   "outputs": [
    {
     "name": "stdout",
     "output_type": "stream",
     "text": [
      "['B-LOC', 'O', 'O', 'O']\n"
     ]
    }
   ],
   "source": [
    "ner = jiagu.ner(words)\n",
    "print(ner)"
   ]
  },
  {
   "cell_type": "code",
   "execution_count": 14,
   "id": "3915ff36",
   "metadata": {},
   "outputs": [
    {
     "name": "stdout",
     "output_type": "stream",
     "text": [
      "['汉服', '和', '服装', '、', '维基', '图谱']\n"
     ]
    }
   ],
   "source": [
    "text = '汉服和服装、维基图谱'\n",
    "words = jiagu.seg(text)\n",
    "print(words)"
   ]
  },
  {
   "cell_type": "code",
   "execution_count": 15,
   "id": "a29694b8",
   "metadata": {},
   "outputs": [],
   "source": [
    "jiagu.load_userdict(['汉服和服装'])"
   ]
  },
  {
   "cell_type": "code",
   "execution_count": 16,
   "id": "5792e734",
   "metadata": {},
   "outputs": [
    {
     "name": "stdout",
     "output_type": "stream",
     "text": [
      "['汉服和服装', '、', '维基', '图谱']\n"
     ]
    }
   ],
   "source": [
    "words = jiagu.seg(text) # 自定义分词，字典分词模式有效\n",
    "print(words)"
   ]
  },
  {
   "cell_type": "code",
   "execution_count": 17,
   "id": "c57b3348",
   "metadata": {},
   "outputs": [
    {
     "name": "stdout",
     "output_type": "stream",
     "text": [
      "[['姚明', '出生日期', '1980年9月12日'], ['姚明', '出生地', '上海市徐汇区'], ['姚明', '祖籍', '江苏省苏州市吴江区震泽镇']]\n"
     ]
    }
   ],
   "source": [
    "import jiagu\n",
    "\n",
    "# 吻别是由张学友演唱的一首歌曲。\n",
    "# 《盗墓笔记》是2014年欢瑞世纪影视传媒股份有限公司出品的一部网络季播剧，改编自南派三叔所著的同名小说，由郑保瑞和罗永昌联合导演，李易峰、杨洋、唐嫣、刘天佐、张智尧、魏巍等主演。\n",
    "\n",
    "text = '姚明1980年9月12日出生于上海市徐汇区，祖籍江苏省苏州市吴江区震泽镇，前中国职业篮球运动员，司职中锋，现任中职联公司董事长兼总经理。'\n",
    "knowledge = jiagu.knowledge(text)\n",
    "print(knowledge)"
   ]
  },
  {
   "cell_type": "code",
   "execution_count": 19,
   "id": "c6d2752a",
   "metadata": {},
   "outputs": [
    {
     "name": "stdout",
     "output_type": "stream",
     "text": [
      "['.', '工程', '万', '造林', '绿化']\n"
     ]
    }
   ],
   "source": [
    "import jiagu\n",
    "\n",
    "text = '''\n",
    "该研究主持者之一、波士顿大学地球与环境科学系博士陈池（音）表示，“尽管中国和印度国土面积仅占全球陆地的9%，但两国为这一绿化过程贡献超过三分之一。考虑到人口过多的国家一般存在对土地过度利用的问题，这个发现令人吃惊。”\n",
    "NASA埃姆斯研究中心的科学家拉玛·内曼尼（Rama Nemani）说，“这一长期数据能让我们深入分析地表绿化背后的影响因素。我们一开始以为，植被增加是由于更多二氧化碳排放，导致气候更加温暖、潮湿，适宜生长。”\n",
    "“MODIS的数据让我们能在非常小的尺度上理解这一现象，我们发现人类活动也作出了贡献。”\n",
    "NASA文章介绍，在中国为全球绿化进程做出的贡献中，有42%来源于植树造林工程，对于减少土壤侵蚀、空气污染与气候变化发挥了作用。\n",
    "据观察者网过往报道，2017年我国全国共完成造林736.2万公顷、森林抚育830.2万公顷。其中，天然林资源保护工程完成造林26万公顷，退耕还林工程完成造林91.2万公顷。京津风沙源治理工程完成造林18.5万公顷。三北及长江流域等重点防护林体系工程完成造林99.1万公顷。完成国家储备林建设任务68万公顷。\n",
    "'''\n",
    "\n",
    "keywords = jiagu.keywords(text, 5) # 关键词\n",
    "print(keywords)"
   ]
  },
  {
   "cell_type": "code",
   "execution_count": 13,
   "id": "0634dd2e",
   "metadata": {
    "scrolled": true
   },
   "outputs": [
    {
     "name": "stdout",
     "output_type": "stream",
     "text": [
      "['.', '工程', '万', '造林', '绿化']\n"
     ]
    }
   ],
   "source": [
    "import jiagu\n",
    "\n",
    "text = '''\n",
    "该研究主持者之一、波士顿大学地球与环境科学系博士陈池（音）表示，“尽管中国和印度国土面积仅占全球陆地的9%，但两国为这一绿化过程贡献超过三分之一。考虑到人口过多的国家一般存在对土地过度利用的问题，这个发现令人吃惊。”\n",
    "NASA埃姆斯研究中心的科学家拉玛·内曼尼（Rama Nemani）说，“这一长期数据能让我们深入分析地表绿化背后的影响因素。我们一开始以为，植被增加是由于更多二氧化碳排放，导致气候更加温暖、潮湿，适宜生长。”\n",
    "“MODIS的数据让我们能在非常小的尺度上理解这一现象，我们发现人类活动也作出了贡献。”\n",
    "NASA文章介绍，在中国为全球绿化进程做出的贡献中，有42%来源于植树造林工程，对于减少土壤侵蚀、空气污染与气候变化发挥了作用。\n",
    "据观察者网过往报道，2017年我国全国共完成造林736.2万公顷、森林抚育830.2万公顷。其中，天然林资源保护工程完成造林26万公顷，退耕还林工程完成造林91.2万公顷。京津风沙源治理工程完成造林18.5万公顷。三北及长江流域等重点防护林体系工程完成造林99.1万公顷。完成国家储备林建设任务68万公顷。\n",
    "'''\n",
    "\n",
    "keywords = jiagu.keywords(text, 5) # 关键词\n",
    "print(keywords)"
   ]
  },
  {
   "cell_type": "code",
   "execution_count": 19,
   "id": "0917802e",
   "metadata": {},
   "outputs": [
    {
     "name": "stdout",
     "output_type": "stream",
     "text": [
      "['”NASA文章介绍，在中国为全球绿化进程做出的贡献中，有42%来源于植树造林工程，对于减少土壤侵蚀、空气污染与气候变化发挥了作用。', '该研究主持者之一、波士顿大学地球与环境科学系博士陈池（音）表示，“尽管中国和印度国土面积仅占全球陆地的9%，但两国为这一绿化过程贡献超过三分之一。', '其中，天然林资源保护工程完成造林26万公顷，退耕还林工程完成造林91.2万公顷。']\n"
     ]
    }
   ],
   "source": [
    "import jiagu\n",
    "\n",
    "fin = open('input.txt', 'r', encoding='utf-8')\n",
    "text = fin.read()\n",
    "fin.close()\n",
    "\n",
    "summarize = jiagu.summarize(text, 3) # 摘要\n",
    "print(summarize)"
   ]
  },
  {
   "cell_type": "code",
   "execution_count": 23,
   "id": "53803fb9",
   "metadata": {},
   "outputs": [],
   "source": [
    "import jiagu\n",
    "\n",
    "jiagu.findword('input.txt', 'output.txt') # 根据文本，利用信息熵做新词发现。"
   ]
  },
  {
   "cell_type": "code",
   "execution_count": 25,
   "id": "396e0b62",
   "metadata": {},
   "outputs": [
    {
     "ename": "NameError",
     "evalue": "name '_file_' is not defined",
     "output_type": "error",
     "traceback": [
      "\u001b[1;31m---------------------------------------------------------------------------\u001b[0m",
      "\u001b[1;31mNameError\u001b[0m                                 Traceback (most recent call last)",
      "\u001b[1;32m~\\Temp/ipykernel_1560/2211073072.py\u001b[0m in \u001b[0;36m<module>\u001b[1;34m\u001b[0m\n\u001b[0;32m      1\u001b[0m \u001b[1;32mimport\u001b[0m \u001b[0mos\u001b[0m\u001b[1;33m\u001b[0m\u001b[1;33m\u001b[0m\u001b[0m\n\u001b[1;32m----> 2\u001b[1;33m \u001b[0mos\u001b[0m\u001b[1;33m.\u001b[0m\u001b[0mpath\u001b[0m\u001b[1;33m.\u001b[0m\u001b[0mrealpath\u001b[0m\u001b[1;33m(\u001b[0m\u001b[0m_file_\u001b[0m\u001b[1;33m)\u001b[0m\u001b[1;33m\u001b[0m\u001b[1;33m\u001b[0m\u001b[0m\n\u001b[0m",
      "\u001b[1;31mNameError\u001b[0m: name '_file_' is not defined"
     ]
    }
   ],
   "source": []
  },
  {
   "cell_type": "code",
   "execution_count": 25,
   "id": "23450f35",
   "metadata": {},
   "outputs": [
    {
     "name": "stdout",
     "output_type": "stream",
     "text": [
      "('negative', 0.9957030885091285)\n"
     ]
    }
   ],
   "source": [
    "import jiagu\n",
    "\n",
    "text = '很讨厌还是个懒鬼'\n",
    "sentiment = jiagu.sentiment(text)\n",
    "print(sentiment)"
   ]
  },
  {
   "cell_type": "code",
   "execution_count": 26,
   "id": "ee19702f",
   "metadata": {},
   "outputs": [
    {
     "name": "stdout",
     "output_type": "stream",
     "text": [
      "{0: ['深度学习实践：从零开始做电影评论文本情感分析', '现在可以快速测试一下spaCy的相关功能，我们以英文数据为例，spaCy目前主要支持英文和德文', 'BERT相关论文、文章和代码资源汇总', '将不同长度的句子用BERT预训练模型编码，映射到一个固定长度的向量上', '百度深度学习中文情感分析工具Senta试用及在线测试', '情感分析是自然语言处理里面一个热门话题'], 1: ['AI Challenger 2018 文本挖掘类竞赛相关解决方案及代码汇总'], 2: ['自然语言处理工具包spaCy介绍']}\n"
     ]
    }
   ],
   "source": [
    "import jiagu\n",
    "\n",
    "docs = [\n",
    "        \"百度深度学习中文情感分析工具Senta试用及在线测试\",\n",
    "        \"情感分析是自然语言处理里面一个热门话题\",\n",
    "        \"AI Challenger 2018 文本挖掘类竞赛相关解决方案及代码汇总\",\n",
    "        \"深度学习实践：从零开始做电影评论文本情感分析\",\n",
    "        \"BERT相关论文、文章和代码资源汇总\",\n",
    "        \"将不同长度的句子用BERT预训练模型编码，映射到一个固定长度的向量上\",\n",
    "        \"自然语言处理工具包spaCy介绍\",\n",
    "        \"现在可以快速测试一下spaCy的相关功能，我们以英文数据为例，spaCy目前主要支持英文和德文\"\n",
    "    ]\n",
    "cluster = jiagu.text_cluster(docs)\t\n",
    "print(cluster)"
   ]
  },
  {
   "cell_type": "code",
   "execution_count": null,
   "id": "de1e8379",
   "metadata": {},
   "outputs": [],
   "source": []
  }
 ],
 "metadata": {
  "kernelspec": {
   "display_name": "Python 3 (ipykernel)",
   "language": "python",
   "name": "python3"
  },
  "language_info": {
   "codemirror_mode": {
    "name": "ipython",
    "version": 3
   },
   "file_extension": ".py",
   "mimetype": "text/x-python",
   "name": "python",
   "nbconvert_exporter": "python",
   "pygments_lexer": "ipython3",
   "version": "3.9.5"
  }
 },
 "nbformat": 4,
 "nbformat_minor": 5
}
