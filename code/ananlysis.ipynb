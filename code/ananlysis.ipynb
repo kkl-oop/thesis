{
 "cells": [
  {
   "cell_type": "code",
   "execution_count": 3,
   "metadata": {},
   "outputs": [],
   "source": [
    "from gensim.models.word2vec import LineSentence\n",
    "from gensim import corpora\n",
    "from gensim.models import Word2Vec\n",
    "import pandas as pd\n",
    "import numpy as np\n",
    "\n",
    "sentences = LineSentence('corpus_without_stopword.txt')\n",
    "dictionary = corpora.Dictionary(sentences)"
   ]
  },
  {
   "cell_type": "code",
   "execution_count": 16,
   "metadata": {},
   "outputs": [
    {
     "data": {
      "text/plain": [
       "[('说', 884),\n",
       " ('里', 33),\n",
       " ('少平', 794),\n",
       " ('中', 137),\n",
       " ('少安', 2613),\n",
       " ('走', 338),\n",
       " ('想', 1114),\n",
       " ('事', 30),\n",
       " ('象', 426),\n",
       " ('吃', 207)]"
      ]
     },
     "execution_count": 16,
     "metadata": {},
     "output_type": "execute_result"
    }
   ],
   "source": [
    "# print(dictionary.token2id.items())\n",
    "sorted_dictionary = sorted(dictionary.token2id.items(), key=lambda item:dictionary.dfs[dictionary.token2id[item[0]]], reverse=True)\n",
    "sorted_dictionary[:10]"
   ]
  }
 ],
 "metadata": {
  "interpreter": {
   "hash": "5085d9696cf3b63ae5bb775278ec3e393a5cd86897776366bf95a1bc2610bf80"
  },
  "kernelspec": {
   "display_name": "Python 3.7.5 64-bit",
   "language": "python",
   "name": "python3"
  },
  "language_info": {
   "codemirror_mode": {
    "name": "ipython",
    "version": 3
   },
   "file_extension": ".py",
   "mimetype": "text/x-python",
   "name": "python",
   "nbconvert_exporter": "python",
   "pygments_lexer": "ipython3",
   "version": "3.7.5"
  },
  "orig_nbformat": 4
 },
 "nbformat": 4,
 "nbformat_minor": 2
}
