{
 "cells": [
  {
   "cell_type": "code",
   "execution_count": 25,
   "metadata": {},
   "outputs": [
    {
     "name": "stdout",
     "output_type": "stream",
     "text": [
      "starting to fit your corpus...\n",
      "ended\n"
     ]
    }
   ],
   "source": [
    "from gensim.models import Word2Vec\n",
    "from gensim.models.word2vec import LineSentence\n",
    "from gensim import corpora\n",
    "\n",
    "\n",
    "sentences = LineSentence('corpus.txt')\n",
    "print(\"starting to fit your corpus...\")\n",
    "model = Word2Vec(sentences, vector_size=100, window=5, min_count=3,workers=4)\n",
    "print(\"ended\")\n",
    "model.save(\"model.model\")\n",
    "\n"
   ]
  },
  {
   "cell_type": "code",
   "execution_count": 24,
   "metadata": {},
   "outputs": [],
   "source": [
    "vocabulary=model.wv.index_to_key \n",
    "# print(vocabulary)"
   ]
  },
  {
   "cell_type": "code",
   "execution_count": 9,
   "metadata": {},
   "outputs": [
    {
     "name": "stdout",
     "output_type": "stream",
     "text": [
      "(11602, 100)\n"
     ]
    }
   ],
   "source": [
    "vector=model.wv.vectors\n",
    "print(vector.shape)"
   ]
  },
  {
   "cell_type": "code",
   "execution_count": 14,
   "metadata": {},
   "outputs": [
    {
     "name": "stdout",
     "output_type": "stream",
     "text": [
      "[-0.53406984  0.75632924  0.16105656 -0.05066291 -0.16777988 -1.4883282\n",
      "  0.21313913  1.2818049  -0.36669868 -1.3127819  -0.57079446 -1.0904758\n",
      " -0.37511832  0.53492874  0.30596545 -0.65566     0.6488032  -0.5258594\n",
      " -0.5150121  -0.77026767 -0.05058493  0.3490761   0.30410564 -0.8835875\n",
      "  0.31164104  0.4425874  -0.96654934 -0.621164   -0.05740058  0.06997385\n",
      "  0.9168348  -0.78803873 -0.11995221 -1.3335835  -0.45114198  0.03428753\n",
      "  0.5974544  -0.19851269  0.5403028  -0.40915984  0.21186171 -1.208451\n",
      " -1.2093681   0.08584409  0.33679017 -0.4052866  -0.07798666 -0.7144452\n",
      "  0.08529753  0.6335557   0.6403492  -1.5743015  -0.07815575  0.4308959\n",
      " -1.1567552   1.092719    0.80239105 -0.45354593  0.31830505  0.7825883\n",
      "  0.4980206   0.3960798   0.28088114 -0.45721382 -0.49663416  0.74343204\n",
      " -0.27979732  0.5006153  -0.10384665  0.1535028  -0.10621738 -0.06805874\n",
      "  1.0152079  -0.09495205  0.135158    0.01025909 -0.41895026 -0.0508105\n",
      "  0.5292528  -0.42906487 -0.10976727 -0.33319694 -0.34904405  0.13705578\n",
      "  0.14209163 -0.44252142  0.05662686 -1.1893417   0.65305     0.23520401\n",
      "  0.31275818  0.40168926 -0.5658306  -0.30964118  0.40700713  0.6581275\n",
      " -0.21716206 -0.60975355  0.23795868  0.34659377]\n"
     ]
    }
   ],
   "source": [
    "try:\n",
    "  vec_shaoping = model.wv['少平']\n",
    "  print(vec_shaoping)\n",
    "except KeyError:\n",
    "  print(\"unfamily word\")"
   ]
  },
  {
   "cell_type": "code",
   "execution_count": 18,
   "metadata": {},
   "outputs": [
    {
     "name": "stdout",
     "output_type": "stream",
     "text": [
      "[('少安', 0.9829203486442566), ('晓霞', 0.9465886354446411), ('润叶', 0.9387814402580261), ('他', 0.9337867498397827), ('田福堂', 0.9301928877830505), ('父亲', 0.9233556985855103), ('秀莲', 0.9222712516784668), ('田福军', 0.9170957803726196), ('孙玉亭', 0.9138670563697815), ('金波', 0.9039900302886963)]\n"
     ]
    }
   ],
   "source": [
    "wv=model.wv\n",
    "print(wv.most_similar(positive=['少平'], topn=10))"
   ]
  },
  {
   "cell_type": "code",
   "execution_count": 20,
   "metadata": {},
   "outputs": [
    {
     "name": "stdout",
     "output_type": "stream",
     "text": [
      "similarity between shaoping and shaoan is : 0.98\n"
     ]
    }
   ],
   "source": [
    "print('similarity between shaoping and shaoan is : %.2f' % wv.similarity('少平', '少安'))"
   ]
  },
  {
   "cell_type": "code",
   "execution_count": 23,
   "metadata": {},
   "outputs": [
    {
     "name": "stdout",
     "output_type": "stream",
     "text": [
      "          少平        少安\n",
      "0  -0.534070 -0.453371\n",
      "1   0.756329  0.719611\n",
      "2   0.161057 -0.007504\n",
      "3  -0.050663 -0.099725\n",
      "4  -0.167780 -0.232248\n",
      "..       ...       ...\n",
      "95  0.658127  0.606583\n",
      "96 -0.217162 -0.296197\n",
      "97 -0.609754 -0.408316\n",
      "98  0.237959  0.146307\n",
      "99  0.346594  0.401928\n",
      "\n",
      "[100 rows x 2 columns]\n"
     ]
    }
   ],
   "source": [
    "import pandas as pd\n",
    "vec_dict = {}\n",
    "vec_dict.update({'少平': wv['少平']})\n",
    "vec_dict.update({'少安': wv['少安']})\n",
    "# print(vec_dict)\n",
    "x = pd.DataFrame(vec_dict)\n",
    "print(x)"
   ]
  }
 ],
 "metadata": {
  "interpreter": {
   "hash": "5085d9696cf3b63ae5bb775278ec3e393a5cd86897776366bf95a1bc2610bf80"
  },
  "kernelspec": {
   "display_name": "Python 3.7.5 64-bit",
   "language": "python",
   "name": "python3"
  },
  "language_info": {
   "codemirror_mode": {
    "name": "ipython",
    "version": 3
   },
   "file_extension": ".py",
   "mimetype": "text/x-python",
   "name": "python",
   "nbconvert_exporter": "python",
   "pygments_lexer": "ipython3",
   "version": "3.7.5"
  },
  "orig_nbformat": 4
 },
 "nbformat": 4,
 "nbformat_minor": 2
}
