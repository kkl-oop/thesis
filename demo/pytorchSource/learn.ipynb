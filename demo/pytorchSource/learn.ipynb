{
 "cells": [
  {
   "cell_type": "code",
   "execution_count": 2,
   "metadata": {},
   "outputs": [
    {
     "name": "stderr",
     "output_type": "stream",
     "text": [
      "Downloading: \"https://download.pytorch.org/models/resnet18-f37072fd.pth\" to C:\\Users\\ljj12/.cache\\torch\\hub\\checkpoints\\resnet18-f37072fd.pth\n",
      "100.0%\n"
     ]
    }
   ],
   "source": [
    "import torch, torchvision\n",
    "model = torchvision.models.resnet18(pretrained=True)\n",
    "data = torch.rand(1,3,64,64)\n",
    "labels = torch.rand(1,1000)\n"
   ]
  },
  {
   "cell_type": "code",
   "execution_count": 19,
   "metadata": {},
   "outputs": [
    {
     "name": "stdout",
     "output_type": "stream",
     "text": [
      "tensor([[-7.9723e-01, -1.0933e-01, -8.6300e-01, -1.5902e+00, -5.2842e-01,\n",
      "         -1.3140e-01, -5.2907e-01,  6.2853e-01,  5.5002e-01, -6.8234e-01,\n",
      "         -7.7501e-01, -1.0617e+00, -1.5839e-02, -7.6296e-01, -1.0620e+00,\n",
      "         -3.9417e-01, -7.1399e-01, -1.7148e-01, -3.9208e-01, -4.1414e-01,\n",
      "         -1.4946e+00, -5.8705e-01, -9.3997e-01,  2.7991e-01, -8.9469e-01,\n",
      "         -1.4481e+00, -8.3059e-01, -1.2061e+00, -1.1113e+00, -4.6271e-02,\n",
      "         -8.0552e-01, -6.9974e-01, -6.2664e-01, -4.3358e-01, -3.3062e-01,\n",
      "         -4.6636e-01,  4.2995e-01, -6.8072e-01, -2.3920e-01,  2.7194e-01,\n",
      "         -2.9657e-01, -7.7102e-01, -9.6914e-01,  6.6581e-02, -4.8958e-01,\n",
      "         -6.5871e-01, -3.3230e-01, -5.5677e-01, -1.1066e+00, -1.3263e+00,\n",
      "         -3.0647e-01,  4.9832e-01, -3.9817e-01, -9.1667e-01, -1.4195e-01,\n",
      "         -1.2537e+00, -3.8298e-01, -1.8552e+00, -6.1937e-01, -6.4125e-01,\n",
      "          5.7894e-01,  1.3090e-01, -2.6730e-01, -1.9166e-01, -7.4627e-01,\n",
      "         -3.9785e-01, -5.5386e-01, -5.0126e-01, -9.7277e-01, -9.4555e-01,\n",
      "         -1.7750e+00, -6.0753e-02, -1.5148e+00, -3.8704e-01, -1.3264e+00,\n",
      "         -1.5251e+00, -1.2125e-01, -7.9725e-01,  9.3991e-02,  7.3386e-02,\n",
      "         -8.0378e-01, -1.4508e+00, -1.7804e-02, -7.3261e-01, -4.6157e-01,\n",
      "          9.1071e-02,  1.5155e-01,  6.7173e-01, -6.7856e-02, -4.0864e-01,\n",
      "         -1.0832e+00, -1.0394e+00, -1.7690e+00, -4.0180e-01,  3.3762e-01,\n",
      "         -2.1121e+00, -5.3987e-01, -7.9701e-01, -1.8384e+00, -4.2856e-01,\n",
      "         -1.0328e+00, -9.4478e-01, -1.1214e+00, -2.9177e-01, -1.3517e-01,\n",
      "         -4.6408e-01, -8.8490e-01, -1.1087e+00, -6.4442e-01, -1.1974e+00,\n",
      "         -1.2423e+00, -5.9231e-01,  1.5547e+00,  3.1220e-01,  2.4977e-01,\n",
      "         -9.7913e-01, -5.6449e-01,  5.7146e-02,  6.5859e-01, -3.6042e-01,\n",
      "         -9.5801e-01,  1.1382e-01,  5.1218e-01,  1.2560e-01,  1.2201e+00,\n",
      "         -1.5788e-01,  4.1042e-01, -1.2998e+00, -1.4577e+00, -9.2246e-01,\n",
      "         -1.2470e+00, -1.6334e+00, -8.4965e-01, -1.3502e+00, -7.8013e-01,\n",
      "         -1.5242e+00, -1.0056e+00, -1.4181e+00, -1.4059e+00, -1.4672e+00,\n",
      "         -1.3602e+00, -1.4754e+00, -2.0184e+00, -1.6862e+00, -4.4772e-01,\n",
      "         -6.4725e-01, -8.9325e-01, -2.0852e+00, -1.2696e+00, -1.5427e+00,\n",
      "          5.1759e-01,  1.8095e+00, -9.7730e-01, -1.4039e-01,  1.6808e-01,\n",
      "          2.5579e-02, -1.9520e-01, -2.0650e-01,  2.3572e-01,  3.9802e-01,\n",
      "          4.2893e-01,  9.2737e-01,  5.9958e-01,  3.8398e-01,  3.7743e-01,\n",
      "         -3.0880e-01,  2.3737e-02, -1.0525e-01,  8.3850e-01, -9.3057e-02,\n",
      "          2.1245e-01,  1.1774e+00,  6.4159e-01,  6.5345e-01,  1.3186e-01,\n",
      "         -7.1317e-01,  4.5311e-01,  4.1041e-01,  8.2185e-01,  6.2190e-01,\n",
      "          5.6934e-01,  1.9387e-01,  6.8530e-01,  2.4956e-01,  8.0705e-01,\n",
      "          9.1745e-01,  6.6419e-01,  2.1639e-01,  3.7050e-01,  7.0479e-01,\n",
      "         -4.4385e-01,  4.4881e-01,  4.1448e-01,  4.9662e-01, -6.6270e-01,\n",
      "          8.9145e-01,  1.9878e-01,  2.3061e-01,  3.4377e-01,  6.1518e-01,\n",
      "          1.1608e-01,  2.3094e-01,  8.0268e-01,  8.4250e-01,  3.0642e-01,\n",
      "          1.3915e-01, -8.5834e-02,  8.6531e-01,  1.5103e+00,  4.3362e-01,\n",
      "         -1.1453e-01,  3.1424e-01,  4.6007e-01,  2.2832e-01, -3.8463e-02,\n",
      "          5.9180e-01, -1.5032e-01,  4.5375e-01, -1.0002e-01,  4.2994e-01,\n",
      "         -3.3069e-01, -2.7716e-01,  2.0574e-01,  5.8243e-01,  3.6441e-01,\n",
      "          2.0135e-01,  1.1465e-01,  8.6071e-01, -3.3743e-01,  1.3407e-01,\n",
      "          8.9715e-02,  5.5428e-01,  7.2346e-01, -3.2216e-02,  7.4071e-01,\n",
      "          6.8036e-01,  4.2995e-01,  5.4794e-01,  9.0027e-01,  1.9261e-01,\n",
      "          6.1080e-01,  7.3264e-02,  7.5314e-01,  7.0699e-02, -3.8314e-01,\n",
      "          2.0529e-01,  4.9236e-01, -3.4646e-02,  9.5140e-01,  3.2080e-01,\n",
      "          7.0186e-01,  6.3851e-01, -9.3127e-01,  9.2914e-01,  9.0632e-01,\n",
      "         -8.1253e-01,  2.7652e-01,  4.5983e-01,  1.9663e-01,  3.2702e-01,\n",
      "         -1.8217e-01, -7.8392e-01, -2.9612e-01,  5.8517e-01,  1.0936e+00,\n",
      "          6.2762e-01,  2.1642e-01,  4.7006e-01, -1.4429e-01, -2.4420e-01,\n",
      "         -6.1123e-01, -8.7973e-01, -4.1713e-01,  9.3440e-01, -1.2347e+00,\n",
      "         -1.5922e+00, -1.4330e+00, -6.5092e-01, -1.3238e+00, -4.8447e-01,\n",
      "         -1.8554e-01,  8.6702e-01,  5.9626e-01, -2.4272e-01,  6.4430e-02,\n",
      "          9.8737e-01, -2.5236e-01, -3.2693e-01, -8.1537e-01, -1.8246e+00,\n",
      "         -1.1543e+00, -1.4114e+00, -3.5798e-01, -1.0459e+00, -1.0089e+00,\n",
      "         -1.1909e+00, -8.9880e-01, -1.5408e+00, -4.5464e-01, -2.0652e-01,\n",
      "         -2.1142e+00, -1.0603e+00, -6.1317e-01, -4.2461e-01, -1.3495e+00,\n",
      "         -1.0157e+00,  3.5516e-01, -1.0699e+00, -1.5325e+00, -5.6199e-01,\n",
      "          2.7836e-01, -5.1011e-01, -3.7204e-01,  1.3952e-01,  7.7054e-01,\n",
      "         -8.3799e-01, -1.0157e+00, -1.2135e+00, -1.3774e+00, -8.6166e-01,\n",
      "         -1.6873e+00, -1.2454e+00, -1.4396e+00, -1.7304e+00, -1.3722e+00,\n",
      "         -1.6970e+00, -9.8492e-01,  2.7201e-01,  2.3676e-01, -4.9495e-01,\n",
      "          1.2506e-01, -3.6304e-01, -6.9193e-02,  3.7408e-01, -5.7505e-01,\n",
      "         -9.4530e-01, -1.7213e+00,  8.7687e-02,  7.8040e-01, -8.4972e-01,\n",
      "         -6.0994e-01,  4.7144e-01, -6.4515e-01, -1.4966e+00, -8.9600e-01,\n",
      "          6.3233e-01, -6.4036e-01, -1.8818e+00,  1.7071e-04, -1.0860e+00,\n",
      "         -1.1422e+00, -2.4299e+00, -1.3216e+00, -6.1825e-01, -4.3468e-01,\n",
      "          6.9516e-01,  9.4959e-01, -3.9436e-01,  2.4720e-01,  4.6680e-01,\n",
      "         -1.6311e-01,  1.2817e-01, -2.9421e-01,  1.6596e-01, -5.8318e-01,\n",
      "         -6.7238e-01, -1.4184e+00, -6.3003e-01, -1.1267e+00, -9.6500e-01,\n",
      "         -9.2150e-01, -2.3207e-01, -5.3784e-01, -6.4272e-03, -8.5809e-02,\n",
      "         -1.0231e+00, -8.3425e-01,  2.4666e-02, -8.1947e-01, -8.6475e-01,\n",
      "          1.5419e-01, -6.5386e-01, -3.0554e-01, -5.3565e-01, -8.3035e-01,\n",
      "         -7.0901e-01, -1.0688e+00, -8.8213e-01, -1.4287e+00, -1.4420e-01,\n",
      "          3.1826e-01,  2.3490e-01, -1.4997e+00, -1.5302e+00, -3.3351e-01,\n",
      "          5.1010e-01, -9.2964e-01, -3.1838e-01,  2.0883e-01, -8.8211e-02,\n",
      "         -8.4286e-01,  8.0443e-01,  2.5008e-01, -2.3951e+00, -2.0409e+00,\n",
      "         -1.0216e+00, -2.8911e-01, -3.6036e-01, -1.3427e-01,  1.0095e+00,\n",
      "         -4.6277e-02,  2.8155e-01,  2.2792e+00,  6.1170e-01,  3.7239e-01,\n",
      "          8.8313e-01, -1.7818e-01,  1.6602e-01,  1.2104e-01,  1.2305e+00,\n",
      "          8.2554e-01,  1.1791e+00, -2.1729e-01,  2.6369e-01,  7.5483e-03,\n",
      "         -8.4783e-01,  2.6549e-02,  1.6046e+00,  1.4615e+00,  3.3494e-01,\n",
      "         -6.9455e-01,  1.3361e-01,  1.9351e-01,  8.1416e-01,  6.1814e-01,\n",
      "          1.0431e+00, -1.4185e-01, -3.5602e-01,  2.7909e-01,  3.6768e-01,\n",
      "          1.0741e+00,  5.9055e-01,  8.3143e-02, -4.3605e-01, -4.5464e-01,\n",
      "          7.9310e-02,  7.1077e-01,  1.5941e+00,  1.2023e+00, -4.2377e-01,\n",
      "         -5.0710e-01,  5.8714e-01,  7.6700e-01, -1.2251e-01, -4.5699e-01,\n",
      "          8.6822e-01,  1.3559e+00,  1.3019e+00, -1.6110e-02,  7.2762e-01,\n",
      "         -7.8647e-01,  2.4427e-01,  1.1474e+00,  2.5352e+00,  7.9203e-01,\n",
      "         -2.9791e-01, -1.3376e+00, -1.5827e-01, -1.2419e-01,  1.4568e+00,\n",
      "          1.3350e+00,  4.9921e-01,  3.5766e-02,  1.0512e+00, -1.3132e-01,\n",
      "         -2.4592e-03, -3.3873e-02,  5.8840e-01,  8.5082e-01,  6.2600e-01,\n",
      "         -2.2836e-01,  1.9829e-01,  3.1573e-01, -9.6702e-01, -1.2970e+00,\n",
      "         -1.5820e-02, -3.1466e-01,  1.1493e+00,  1.4391e+00,  1.0770e+00,\n",
      "          2.9747e-01,  8.4311e-01,  6.9970e-01, -1.0942e+00,  1.5276e+00,\n",
      "         -1.1612e+00, -1.0257e-01, -6.7946e-01, -5.1457e-01,  1.1396e+00,\n",
      "         -1.9599e+00,  7.9476e-01,  1.1843e+00,  3.5283e-01,  1.1603e+00,\n",
      "          1.0629e+00,  9.3693e-01,  4.7738e-01,  4.4912e-01,  2.6393e-01,\n",
      "         -1.0968e+00, -6.6499e-01,  8.7203e-01,  3.1702e-01,  1.2501e+00,\n",
      "          2.0530e+00,  6.9504e-01, -1.7072e-01,  1.2910e+00,  8.0270e-01,\n",
      "         -6.3526e-01,  7.7125e-01,  1.1024e+00,  1.4160e+00,  2.4116e-02,\n",
      "         -8.1816e-01, -2.3973e-01, -5.3050e-01,  2.7757e-01,  1.6033e-04,\n",
      "          9.3632e-01,  1.8491e-01, -4.9707e-02, -7.7856e-01,  4.5426e-01,\n",
      "         -8.8208e-01, -6.0387e-01, -3.8919e-01,  1.1613e-01,  1.3556e+00,\n",
      "         -1.2638e+00,  1.6704e+00,  9.9210e-01,  6.3169e-01,  6.8408e-01,\n",
      "          9.8441e-01,  3.8846e-01, -1.9227e+00, -1.1676e+00, -1.3784e-01,\n",
      "         -6.2182e-01,  2.7345e-01,  9.6764e-01, -7.9006e-04, -1.3824e+00,\n",
      "         -5.5672e-01,  2.3724e-01,  1.0583e-01,  1.0123e+00,  9.5079e-01,\n",
      "         -3.6520e-01, -2.9653e-01,  6.6706e-01, -2.0828e-01, -1.1588e+00,\n",
      "         -1.0208e+00,  3.1278e-01,  1.0519e+00,  6.2343e-01, -5.7420e-01,\n",
      "          1.0857e+00,  3.1166e-01,  9.4562e-01, -1.0024e+00,  5.7116e-01,\n",
      "         -3.1731e-01, -1.1078e+00,  1.0613e+00,  2.6089e-01,  2.3182e-01,\n",
      "          2.1243e-01, -4.6572e-02,  7.2643e-01,  5.0500e-01,  7.8906e-01,\n",
      "          7.9715e-01, -5.3573e-01,  1.6109e+00,  1.1923e+00,  8.2075e-01,\n",
      "         -8.5280e-01,  4.3698e-01, -4.6272e-01,  8.3277e-01,  3.9296e-01,\n",
      "         -6.0541e-01,  9.5329e-01, -5.3216e-01, -5.8752e-01,  1.0331e+00,\n",
      "          1.8271e+00,  1.2575e-01, -1.9746e-01, -4.6111e-01,  4.5452e-01,\n",
      "          7.4131e-03,  1.0203e+00, -1.8843e-01,  3.1697e-01, -2.0761e-01,\n",
      "          8.7890e-01,  8.6964e-01, -5.6381e-01,  4.3697e-01, -6.3739e-02,\n",
      "          8.0987e-02,  8.7537e-01,  6.7259e-01,  1.8520e+00,  1.1241e+00,\n",
      "          1.0316e+00,  5.4959e-01,  5.0512e-01,  6.6628e-01,  1.5921e-01,\n",
      "         -1.5104e+00,  1.1474e+00, -4.0778e-01, -1.2245e+00,  3.2020e-01,\n",
      "         -4.7481e-02,  1.2236e+00,  8.0803e-01,  1.4086e+00, -5.5387e-01,\n",
      "          2.5372e-01,  1.2244e+00,  8.7666e-01,  6.0966e-01,  3.4720e-01,\n",
      "         -1.7312e+00,  1.1772e+00, -2.5082e-01,  1.3487e+00,  8.9406e-01,\n",
      "         -8.8185e-01,  7.7458e-01,  5.1889e-01, -7.8497e-01, -1.4406e+00,\n",
      "          8.0457e-01, -9.2351e-04,  3.7909e-01,  8.2803e-01, -2.3226e-01,\n",
      "          6.4345e-01,  7.7955e-02, -1.6911e-02, -1.8010e-01,  6.3189e-01,\n",
      "          4.4968e-02, -9.1046e-01, -1.1631e-01, -7.5424e-01,  9.8275e-01,\n",
      "         -1.7733e-01,  1.2408e+00,  2.3249e-01, -1.1164e+00, -2.9424e-01,\n",
      "         -1.4297e-01, -5.6553e-01, -1.9811e-01,  4.8514e-01,  1.3462e+00,\n",
      "         -7.4895e-01,  1.4840e+00,  1.0538e+00,  8.4888e-01,  7.4406e-02,\n",
      "          6.6069e-01,  6.7164e-01, -3.0548e-01,  6.5779e-01,  4.9041e-01,\n",
      "         -1.6844e+00,  1.2986e-01, -1.3392e+00, -3.5469e-01, -6.6271e-01,\n",
      "         -4.3848e-01,  4.3355e-01,  1.0538e+00,  6.8504e-01, -7.5243e-01,\n",
      "          7.0214e-01,  1.5901e+00, -1.2015e-01, -6.3942e-01,  6.9187e-01,\n",
      "          1.9489e+00, -5.1575e-01, -2.0528e-02,  4.1581e-01,  6.1485e-01,\n",
      "         -4.2106e-01, -5.0339e-01, -1.1792e-02,  1.0730e+00,  3.8596e-02,\n",
      "          1.1650e+00,  1.1615e+00,  1.0866e-01, -4.7717e-01,  5.6992e-01,\n",
      "         -6.0049e-01,  1.1737e+00, -4.8001e-01, -5.2554e-01,  5.4227e-01,\n",
      "          4.2495e-01,  1.3253e-01,  1.1777e+00,  5.4349e-01, -6.4992e-01,\n",
      "          1.2344e+00, -9.5853e-01, -3.2871e-01,  1.7619e+00, -4.0422e-01,\n",
      "          4.6355e-02,  2.1722e+00, -5.2402e-01,  1.7942e+00, -1.5882e+00,\n",
      "          1.5484e-01, -1.8966e-01,  6.5736e-01,  1.3026e+00,  7.1092e-02,\n",
      "          1.0916e+00, -8.0932e-02,  1.6084e-01, -1.1540e-01,  5.6596e-01,\n",
      "          3.7400e-01, -2.7365e-02,  8.9558e-01,  6.0454e-01,  1.7291e+00,\n",
      "          5.9538e-01, -3.7162e-01,  3.1109e-01,  9.6864e-01,  8.6162e-01,\n",
      "         -4.5204e-01,  1.2584e+00, -1.4718e-01,  1.0702e+00,  3.0259e-02,\n",
      "          1.7274e-01,  6.4418e-01,  2.4634e-01,  7.0766e-01,  1.1089e+00,\n",
      "          9.9221e-01,  1.6366e-01,  4.6819e-01, -4.0996e-01,  1.3855e+00,\n",
      "          6.0830e-01,  5.2507e-01,  1.3360e+00,  6.0189e-01,  7.2869e-01,\n",
      "          5.4619e-01,  2.7860e-01,  3.3220e-01,  1.3971e+00, -9.8889e-01,\n",
      "         -1.0750e+00, -6.5476e-01,  1.2496e+00,  8.4503e-01,  1.5308e+00,\n",
      "          2.4623e-01,  4.2681e-01,  1.2440e+00,  3.8748e-01,  3.9637e-02,\n",
      "          7.2481e-01,  1.1819e+00,  1.6463e+00,  1.0401e+00,  1.1849e-01,\n",
      "          2.1301e-02,  9.9478e-01,  6.9783e-01, -5.6550e-01,  4.1543e-01,\n",
      "         -1.1246e+00,  3.6213e-01, -1.1612e+00, -1.1909e+00,  1.1429e+00,\n",
      "          1.2011e+00,  2.7660e-01,  1.8067e-01,  1.5284e+00,  1.5281e-01,\n",
      "         -4.5134e-01,  1.2506e+00, -7.7164e-01,  1.7227e+00, -1.3105e+00,\n",
      "         -1.9680e-01,  1.8459e-01, -1.1456e+00,  1.4661e+00,  1.5262e-01,\n",
      "         -1.7369e+00, -9.7609e-01, -9.8102e-02,  6.4186e-01,  1.0361e+00,\n",
      "         -9.7558e-01,  3.1715e-02,  1.0345e+00,  1.0379e+00, -8.3213e-01,\n",
      "          7.0307e-01,  3.5888e-01, -5.8418e-01, -1.3200e+00,  3.8160e-01,\n",
      "          4.7501e-01,  1.4549e+00,  1.4820e+00,  1.5069e+00, -8.6027e-01,\n",
      "          1.2271e+00,  4.3456e-01,  4.1474e-01,  5.0410e-01,  7.0926e-01,\n",
      "          1.7180e+00,  8.7113e-01, -5.6277e-01,  3.9921e-01,  8.0868e-01,\n",
      "          1.1135e+00,  1.5856e+00,  1.8312e+00, -5.6446e-01, -4.0083e-01,\n",
      "          6.0596e-01, -5.6932e-01, -5.7552e-02, -3.4794e-01,  1.1588e+00,\n",
      "          1.7793e-01,  1.5247e+00,  9.5100e-01,  1.8301e-02, -1.1383e-01,\n",
      "          3.7418e-01,  8.9210e-02, -4.9750e-01,  1.8103e+00, -4.1150e-01,\n",
      "          7.0353e-01, -1.4356e+00,  1.1470e+00, -1.2930e+00, -2.3011e+00,\n",
      "          4.6460e-01,  1.5290e+00, -5.2278e-01, -3.0269e-01,  1.4903e+00,\n",
      "          7.9894e-01, -1.9312e-01,  7.8455e-01,  1.5949e+00, -1.9147e-01,\n",
      "          4.9151e-01, -4.6090e-01, -1.9441e-01, -9.7343e-01,  2.0889e-01,\n",
      "         -4.3032e-01,  2.4266e-01,  8.2486e-01,  1.5621e-01, -7.2566e-01,\n",
      "         -8.7052e-01,  9.4758e-01,  6.2519e-01,  1.9010e+00,  1.9236e+00,\n",
      "         -1.0157e+00, -7.7722e-02,  1.3247e+00,  8.8420e-01,  5.9816e-01,\n",
      "          1.1001e-01, -4.9878e-01,  1.1286e+00, -9.4065e-01,  4.1207e-01,\n",
      "          1.5037e+00,  1.1246e+00,  1.0310e+00, -1.8648e-01, -1.7871e+00,\n",
      "         -2.9235e-01,  7.9185e-02,  7.2668e-02,  5.8693e-01,  4.2137e-01,\n",
      "         -1.0542e-01,  1.2950e+00, -6.7489e-01,  5.9420e-01, -1.5852e-01,\n",
      "         -8.6484e-01, -1.1507e+00, -1.5650e-01,  3.5257e-02,  1.9010e+00,\n",
      "         -3.1565e-02,  2.5050e-01,  4.1305e-01, -1.6674e+00,  1.7891e-01,\n",
      "         -3.4476e-01,  6.3013e-01,  4.5932e-01,  6.8279e-02, -3.2038e-02,\n",
      "         -8.4264e-02, -5.7828e-01, -7.2816e-02,  2.6608e-01, -3.8975e-01,\n",
      "         -2.7981e-01, -1.1324e+00,  7.0902e-01,  1.0177e+00,  1.3216e-02,\n",
      "          2.0268e-01, -5.7038e-01, -4.2526e-01,  1.7866e-01,  8.8153e-01,\n",
      "         -1.7343e-01, -1.5206e-01, -1.6032e-01, -5.7319e-02, -7.0848e-01,\n",
      "          4.5898e-01,  9.7521e-02, -2.9915e-01, -5.8058e-01, -1.1378e+00,\n",
      "         -3.5179e-01,  5.3737e-01, -4.7911e-01,  8.1046e-01,  2.6549e-01,\n",
      "         -1.9648e-02,  7.0170e-01, -3.5707e-01, -2.6278e-01, -2.0447e+00,\n",
      "          1.1104e+00, -1.4223e+00,  4.9731e-01,  1.9744e-01, -6.7058e-01,\n",
      "         -5.3644e-01, -3.0466e-01,  6.1510e-01, -5.9258e-01, -1.0170e+00,\n",
      "         -1.0617e+00, -2.1611e+00,  1.4763e+00, -1.9216e-01, -7.2146e-01,\n",
      "          1.1705e-01, -9.9784e-01, -6.4108e-01, -1.8732e+00, -5.0843e-01,\n",
      "         -3.4770e-01,  5.2051e-01, -2.2905e-01,  1.2718e+00,  1.0646e+00]],\n",
      "       grad_fn=<AddmmBackward0>)\n"
     ]
    }
   ],
   "source": [
    "# print(data)\n",
    "# print(labels)\n",
    "prediction = model(data)\n",
    "print(prediction)"
   ]
  },
  {
   "cell_type": "code",
   "execution_count": 20,
   "metadata": {},
   "outputs": [
    {
     "name": "stdout",
     "output_type": "stream",
     "text": [
      "<class 'torch.Tensor'>\n"
     ]
    }
   ],
   "source": [
    "loss = (prediction - labels).sum()\n",
    "print(type(loss))"
   ]
  },
  {
   "cell_type": "code",
   "execution_count": 21,
   "metadata": {},
   "outputs": [],
   "source": [
    "loss.backward()"
   ]
  },
  {
   "cell_type": "code",
   "execution_count": 25,
   "metadata": {},
   "outputs": [],
   "source": [
    "optim = torch.optim.SGD(model.parameters(),lr=1e-2,momentum=0.9)"
   ]
  },
  {
   "cell_type": "code",
   "execution_count": 28,
   "metadata": {},
   "outputs": [
    {
     "name": "stdout",
     "output_type": "stream",
     "text": [
      "None\n"
     ]
    }
   ],
   "source": [
    "print(loss.grad)"
   ]
  },
  {
   "cell_type": "code",
   "execution_count": 29,
   "metadata": {},
   "outputs": [],
   "source": [
    "optim.step()"
   ]
  },
  {
   "cell_type": "markdown",
   "metadata": {},
   "source": [
    "autograd"
   ]
  },
  {
   "cell_type": "code",
   "execution_count": 37,
   "metadata": {},
   "outputs": [
    {
     "name": "stdout",
     "output_type": "stream",
     "text": [
      "tensor([2., 3.], requires_grad=True)\n",
      "tensor([6., 4.], requires_grad=True)\n",
      "tensor([-12.,  65.], grad_fn=<SubBackward0>)\n",
      "None\n",
      "tensor([36., 81.])\n",
      "tensor([-12.,  -8.])\n"
     ]
    }
   ],
   "source": [
    "import torch\n",
    "a = torch.tensor([2.,3.], requires_grad=True)\n",
    "b = torch.tensor([6.,4.], requires_grad=True)\n",
    "Q = 3*a**3 - b**2\n",
    "print(a)\n",
    "print(b)\n",
    "print(Q)\n",
    "print(Q.sum().backward())\n",
    "print(a.grad)\n",
    "print(b.grad)\n"
   ]
  },
  {
   "cell_type": "code",
   "execution_count": 45,
   "metadata": {},
   "outputs": [],
   "source": [
    "# for param in model.parameters():\n",
    "  # print(param.grad)"
   ]
  },
  {
   "cell_type": "markdown",
   "metadata": {},
   "source": [
    "### 训练模型"
   ]
  },
  {
   "cell_type": "code",
   "execution_count": 46,
   "metadata": {},
   "outputs": [
    {
     "name": "stdout",
     "output_type": "stream",
     "text": [
      "Downloading https://www.cs.toronto.edu/~kriz/cifar-10-python.tar.gz to ./data\\cifar-10-python.tar.gz\n"
     ]
    },
    {
     "name": "stderr",
     "output_type": "stream",
     "text": [
      "100.0%\n"
     ]
    },
    {
     "name": "stdout",
     "output_type": "stream",
     "text": [
      "Extracting ./data\\cifar-10-python.tar.gz to ./data\n",
      "Files already downloaded and verified\n"
     ]
    }
   ],
   "source": [
    "import torchvision.transforms as tf\n",
    "\n",
    "transform = tf.Compose([tf.ToTensor(),tf.Normalize((0.5,0.5,0.5),(0.5,0.5,0.5))])\n",
    "\n",
    "train_set = torchvision.datasets.CIFAR10(root='./data', train=True, download=True, transform=transform)\n",
    "train_loader = torch.utils.data.DataLoader(train_set, batch_size=4, shuffle=True, num_workers=2)\n",
    "\n",
    "test_set = torchvision.datasets.CIFAR10(root='./data', train=False, download=True, transform=transform)\n",
    "test_loader = torch.utils.data.DataLoader(train_set, batch_size=4, shuffle=True, num_workers=2)\n",
    "\n",
    "classes = ('plane', 'car', 'bird', 'cat',\n",
    "           'deer', 'dog', 'frog', 'horse', 'ship', 'truck')"
   ]
  },
  {
   "cell_type": "code",
   "execution_count": 53,
   "metadata": {},
   "outputs": [
    {
     "name": "stdout",
     "output_type": "stream",
     "text": [
      "horse  ship horse horse\n"
     ]
    },
    {
     "data": {
      "image/png": "[encoded data removed]",
      "text/plain": [
       "<Figure size 432x288 with 1 Axes>"
      ]
     },
     "metadata": {
      "needs_background": "light"
     },
     "output_type": "display_data"
    }
   ],
   "source": [
    "import matplotlib.pyplot as plt\n",
    "import numpy as np\n",
    "\n",
    "def imshow(img):\n",
    "  img = img/2 + 0.5\n",
    "  npimg = img.numpy()\n",
    "  plt.imshow(np.transpose(npimg,(1,2,0)))\n",
    "  \n",
    "dataiter = iter(train_loader)\n",
    "images, labels = dataiter.next()\n",
    "\n",
    "imshow(torchvision.utils.make_grid(images))\n",
    "\n",
    "print(' '.join('%5s' % classes[labels[j]] for j in range(4)))\n"
   ]
  },
  {
   "cell_type": "markdown",
   "metadata": {},
   "source": [
    "### cnn\n"
   ]
  },
  {
   "cell_type": "code",
   "execution_count": 73,
   "metadata": {},
   "outputs": [
    {
     "name": "stdout",
     "output_type": "stream",
     "text": [
      "tensor([-3.1416, -3.1384, -3.1353,  ...,  3.1353,  3.1384,  3.1416])\n",
      "tensor([1, 2, 3])\n",
      "tensor([[ -3.1416,   9.8696, -31.0063],\n",
      "        [ -3.1384,   9.8499, -30.9133],\n",
      "        [ -3.1353,   9.8301, -30.8205],\n",
      "        ...,\n",
      "        [  3.1353,   9.8301,  30.8205],\n",
      "        [  3.1384,   9.8499,  30.9133],\n",
      "        [  3.1416,   9.8696,  31.0063]])\n"
     ]
    },
    {
     "data": {
      "text/plain": [
       "tensor([2, 1, 3, 4])"
      ]
     },
     "execution_count": 73,
     "metadata": {},
     "output_type": "execute_result"
    }
   ],
   "source": [
    "import torch\n",
    "import math\n",
    "\n",
    "x = torch.linspace(-math.pi, math.pi, 2000)\n",
    "y = torch.sin(x)\n",
    "\n",
    "p = torch.tensor([1,2,3])\n",
    "print(x)\n",
    "print(p)\n",
    "xx = x.unsqueeze(-1).pow(p)\n",
    "\n",
    "print(xx)\n",
    "\n",
    "torch.tensor([[2,1],[3,4]]).flatten()"
   ]
  },
  {
   "cell_type": "code",
   "execution_count": null,
   "metadata": {},
   "outputs": [],
   "source": []
  }
 ],
 "metadata": {
  "interpreter": {
   "hash": "5085d9696cf3b63ae5bb775278ec3e393a5cd86897776366bf95a1bc2610bf80"
  },
  "kernelspec": {
   "display_name": "Python 3.7.5 64-bit",
   "language": "python",
   "name": "python3"
  },
  "language_info": {
   "codemirror_mode": {
    "name": "ipython",
    "version": 3
   },
   "file_extension": ".py",
   "mimetype": "text/x-python",
   "name": "python",
   "nbconvert_exporter": "python",
   "pygments_lexer": "ipython3",
   "version": "3.7.5"
  },
  "orig_nbformat": 4
 },
 "nbformat": 4,
 "nbformat_minor": 2
}
