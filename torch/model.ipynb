{
 "cells": [
  {
   "cell_type": "code",
   "execution_count": 28,
   "metadata": {},
   "outputs": [],
   "source": [
    "import torch.nn as nn\n",
    "import torch"
   ]
  },
  {
   "cell_type": "code",
   "execution_count": 29,
   "metadata": {},
   "outputs": [],
   "source": [
    "class ConvBlock(nn.Module):\n",
    "  def __init__(self, in_channels, out_channels, discriminator=False, use_act=True, use_bn=True,**kwargs,):\n",
    "    super().__init__()\n",
    "    self.use_act = use_act\n",
    "    self.cnn = nn.Conv2d(in_channels, out_channels, **kwargs, bias=not use_bn)\n",
    "    self.bn = nn.BatchNorm2d(out_channels) if use_bn else nn.Identity()\n",
    "    self.act = nn.LeakyReLU(0.2, inplace=True) if discriminator else nn.PReLU(num_parameters=out_channels)\n",
    "    \n",
    "    \n",
    "  def forword(self, x):\n",
    "    return self.act(self.bn(self.cnn(x))) if self.use_act else self.bn(self.cnn(x))\n",
    "    \n",
    "  # Conv -> BN -> Leaky/PReLu"
   ]
  },
  {
   "cell_type": "code",
   "execution_count": 30,
   "metadata": {},
   "outputs": [],
   "source": [
    "class UpSampleBlock(nn.Module):\n",
    "  def __init__(self, in_c, scale_factor):\n",
    "    super().__init__()\n",
    "    self.conv = nn.Conv2d(in_c, in_c*scale_factor**2, 3,1,1)\n",
    "    self.ps = nn.PixelShuffle(scale_factor) #in_c * 4 H, W -> in_c, H*2, W*2\n",
    "    self.act = nn.PReLU(num_parameters=in_c)\n",
    "    \n",
    "  \n",
    "  def forward(self, x):\n",
    "    return self.act(self.ps(self.conv(x))) \n",
    "      "
   ]
  },
  {
   "cell_type": "code",
   "execution_count": 31,
   "metadata": {},
   "outputs": [],
   "source": [
    "class ResidualBlock(nn.Module):\n",
    "  def __init__(self, in_channels):\n",
    "    super().__init__()\n",
    "    self.block1 = ConvBlock(in_channels, in_channels, kernel_size=3, stride=1, padding=1)\n",
    "    self.block2 = ConvBlock(in_channels, in_channels, kernel_size=3, stride=1, padding=1, use_act=False)\n",
    "    \n",
    "    \n",
    "  def forward(self, x):\n",
    "    out = self.block1(x)\n",
    "    out = self.block2(out)\n",
    "    return out+x\n",
    "    "
   ]
  },
  {
   "cell_type": "code",
   "execution_count": 32,
   "metadata": {},
   "outputs": [],
   "source": [
    "class Generator(nn.Module):\n",
    "  def __init__(self, in_channels=3,num_channels=64, num_blocks=16):\n",
    "    super().__init__()\n",
    "    self.initial = ConvBlock(in_channels, num_channels, kernel_size=9, stride=1, padding=4, use_bn=False)\n",
    "    self.residual = nn.Sequential(*[ResidualBlock(num_channels) for _ in range(num_blocks)])\n",
    "    self.convblock = ConvBlock(num_channels, num_channels, kernel_size=3, stride=1, padding=1, use_act=False)\n",
    "    self.upsamples = nn.Sequential(UpSampleBlock(num_channels, scale_factor=2),UpSampleBlock(num_channels,1))\n",
    "    self.final = nn.Conv2d(num_channels, in_channels, kernel_size=9, stride=1, padding=1)\n",
    "    \n",
    "  def forward(self,x):\n",
    "    initial = self.initial(x)\n",
    "    x = self.residual(initial)\n",
    "    x = self.convblock(x) + initial\n",
    "    x = self.upsamples(x)\n",
    "    return torch.tanh(self.final(x))"
   ]
  },
  {
   "cell_type": "code",
   "execution_count": 33,
   "metadata": {},
   "outputs": [],
   "source": [
    "class Dicriminator(nn.Module):\n",
    "  def __init__(self, in_channels=3, feature=[64,64,128,128,256,256,512,512]):\n",
    "    super().__init__()\n",
    "    blocks = []\n",
    "    for idx, feature in enumerate(feature):\n",
    "      blocks.append(\n",
    "        ConvBlock(in_channels, feature,kernel_size=3,stride=1+idx%2,padding=1, use_act=True, use_bn=False if idx == 0 else True)\n",
    "      )\n",
    "      in_channels = feature\n",
    "    \n",
    "    self.blocks = nn.Sequential(*blocks)\n",
    "    self.classifier = nn.Sequential(\n",
    "      nn.AdaptiveAvgPool2d(6,6),\n",
    "      nn.Flatten(),\n",
    "      nn.Linear(512*6*6,1024),\n",
    "      nn.LeakyReLU(0.2, inplace==True),\n",
    "      nn.Linear(1024, 1)\n",
    "    )\n",
    "    \n",
    "    \n",
    "  def forward(self,x):\n",
    "    x = self.blocks(x)\n",
    "    return self.classifier(x)    \n",
    "\n",
    "  "
   ]
  },
  {
   "cell_type": "code",
   "execution_count": 34,
   "metadata": {},
   "outputs": [],
   "source": [
    "'''\n",
    "Description: \n",
    "Author: LJJ\n",
    "Date: 2022-03-26 09:22:07\n",
    "LastEditTime: 2022-03-27 15:22:00\n",
    "LastEditors: LJJ\n",
    "'''\n",
    "def test():\n",
    "  low_resolution = 24\n",
    "  with torch.cuda.amp.autocast():\n",
    "    x = torch.randn(5,3,low_resolution,low_resolution)\n",
    "    gen = Generator()\n",
    "    gen_out = gen(x)\n",
    "    disc = Dicriminator()\n",
    "    disc_out = disc(gen_out)\n",
    "    \n",
    "    print(gen_out.shape)\n",
    "    print(disc_out.shape)"
   ]
  },
  {
   "cell_type": "code",
   "execution_count": 1,
   "metadata": {},
   "outputs": [
    {
     "ename": "NameError",
     "evalue": "name 'test' is not defined",
     "output_type": "error",
     "traceback": [
      "\u001b[1;31m---------------------------------------------------------------------------\u001b[0m",
      "\u001b[1;31mNameError\u001b[0m                                 Traceback (most recent call last)",
      "\u001b[1;32m~\\Temp\\ipykernel_15808\\2184786217.py\u001b[0m in \u001b[0;36m<module>\u001b[1;34m\u001b[0m\n\u001b[0;32m      1\u001b[0m \u001b[1;32mif\u001b[0m \u001b[0m__name__\u001b[0m \u001b[1;33m==\u001b[0m \u001b[1;34m\"__main__\"\u001b[0m\u001b[1;33m:\u001b[0m\u001b[1;33m\u001b[0m\u001b[1;33m\u001b[0m\u001b[0m\n\u001b[1;32m----> 2\u001b[1;33m   \u001b[0mtest\u001b[0m\u001b[1;33m(\u001b[0m\u001b[1;33m)\u001b[0m\u001b[1;33m\u001b[0m\u001b[1;33m\u001b[0m\u001b[0m\n\u001b[0m",
      "\u001b[1;31mNameError\u001b[0m: name 'test' is not defined"
     ]
    }
   ],
   "source": [
    "if __name__ == \"__main__\":\n",
    "  test()"
   ]
  },
  {
   "cell_type": "code",
   "execution_count": null,
   "metadata": {},
   "outputs": [],
   "source": [
    "nice to meete"
   ]
  },
  {
   "cell_type": "code",
   "execution_count": null,
   "metadata": {},
   "outputs": [],
   "source": []
  }
 ],
 "metadata": {
  "interpreter": {
   "hash": "5085d9696cf3b63ae5bb775278ec3e393a5cd86897776366bf95a1bc2610bf80"
  },
  "kernelspec": {
   "display_name": "Python 3.7.5 64-bit",
   "language": "python",
   "name": "python3"
  },
  "language_info": {
   "codemirror_mode": {
    "name": "ipython",
    "version": 3
   },
   "file_extension": ".py",
   "mimetype": "text/x-python",
   "name": "python",
   "nbconvert_exporter": "python",
   "pygments_lexer": "ipython3",
   "version": "3.7.5"
  },
  "orig_nbformat": 4
 },
 "nbformat": 4,
 "nbformat_minor": 2
}
