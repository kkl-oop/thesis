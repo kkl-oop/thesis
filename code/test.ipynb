{
 "cells": [
  {
   "cell_type": "code",
   "execution_count": 2,
   "metadata": {},
   "outputs": [
    {
     "name": "stdout",
     "output_type": "stream",
     "text": [
      "GB2312\n"
     ]
    }
   ],
   "source": [
    "import chardet\n",
    "\n",
    "base_path = \"./\"\n",
    "book_name = \"novel.txt\"\n",
    "\n",
    "with open(base_path+book_name, \"rb\") as f:\n",
    "  type = chardet.detect(f.read())['encoding']\n",
    "  print(type)"
   ]
  },
  {
   "cell_type": "code",
   "execution_count": 9,
   "metadata": {},
   "outputs": [],
   "source": [
    "import codecs\n",
    "import re\n",
    "import jieba\n",
    "\n",
    "'''\n",
    "function define\n",
    "'''\n",
    "\n",
    "def remove_punctuation(text):\n",
    "  text = re.sub(\"[^0-9A-Za-z\\u4e00-\\u9fa5]\", \"\", text)\n",
    "  return text.strip()\n",
    "\n",
    "def generate_corpus():\n",
    "  jieba.enable_paddle()\n",
    "  \n",
    "  with codecs.open(\"corpus.txt\", 'w', 'utf-8') as standard:\n",
    "    standard.seek(0)\n",
    "    standard.truncate()\n",
    "    \n",
    "    with open(base_path+book_name, 'r', encoding='GB2312') as f:\n",
    "      text = f.read()\n",
    "      sentences = re.split(\"(。|！|\\!|\\.|？|\\?)\", text)\n",
    "      print(\"there are \" + str(len(sentences)) + \" sentences in this novel\")\n",
    "      \n",
    "      new_sents = []\n",
    "      \n",
    "      for i in range(int(len(sentences)/2)):\n",
    "        sent = sentences[2*i] + sentences[2*i+1]\n",
    "        new_sents.append(remove_punctuation(sent))\n",
    "        \n",
    "      for sent in new_sents:\n",
    "        if sent != '':\n",
    "          split_sent = ' '.join(jieba.cut(sent, use_paddle=True))\n",
    "          standard.write(split_sent+'\\n')\n",
    "  \n",
    "  print(\"generated\")\n",
    "  \n",
    "  \n",
    "def generate_corpus_with_stopwords():\n",
    "  print(\"started to generate corpus with stop words\")\n",
    "  jieba.enable_paddle()\n",
    "  \n",
    "  stop_words = {'的'}\n",
    "  with open(\"stopwords.txt\", 'r', encoding='utf-8') as f:\n",
    "    while True:\n",
    "      stop_word = f.readline()\n",
    "      if stop_word == '':\n",
    "        break\n",
    "      \n",
    "      stop_word = stop_word.strip()\n",
    "      stop_words.add(stop_word)\n",
    "  print(\"stop words dictionary has been loaded\")\n",
    "  \n",
    "  for item in stop_words:\n",
    "    jieba.suggest_freq(item, tune=True)\n",
    "    \n",
    "  with codecs.open(\"corpus_without_stopword.txt\", 'w', encoding='utf-8') as standard:\n",
    "    standard.seek(0)\n",
    "    standard.truncate()\n",
    "    \n",
    "    with open(book_name, 'r', encoding='GB2312') as f:\n",
    "      text = f.read()\n",
    "      sentences = re.split(\"(。|！|\\!|\\.|？|\\?)\", text)\n",
    "      print(\"there are \" + str(len(sentences)) + \" sentences in this novel\")\n",
    "      \n",
    "      new_sents = []\n",
    "      for i in range(int(len(sentences)/2)):\n",
    "        sent = sentences[2*i] + sentences[2*i + 1]\n",
    "        new_sents.append(remove_punctuation(sent))\n",
    "        \n",
    "      for sent in new_sents:\n",
    "        if sent != '':\n",
    "          split_sentence = jieba.cut(sent, use_paddle=True)\n",
    "          out_sentence = ''\n",
    "          for word in split_sentence:\n",
    "            if word not in stop_words:\n",
    "              out_sentence += word + ' '\n",
    "          \n",
    "          standard.write(out_sentence+'\\n')\n",
    "          \n",
    "      print(\"novel finished generated\")\n",
    "              "
   ]
  },
  {
   "cell_type": "code",
   "execution_count": 7,
   "metadata": {},
   "outputs": [
    {
     "name": "stdout",
     "output_type": "stream",
     "text": [
      "there are 56977 sentences in this novel!\n",
      "第一部 第一章 1975 年 二三月 间 一个 平平常常 的 日子 细 蒙蒙 的 雨丝 夹 着 一星半点 的 雪花 正 纷纷 淋淋 地向 大地 飘洒 着 第一部 第一章 1975 年 二三月 间 一个 平平常常 的 日子 细 蒙蒙 的 雨丝 夹 着 一星半点 的 雪花 正 纷纷 淋淋 地向 大地 飘洒 着\n",
      "时令 已快 到 惊蛰 雪 当然 再 不会 存留 往往 还 没 等 落地 就 已经 消失 得 无踪无影 了\n",
      "黄土高原 严寒 而 漫长 的 冬天 看来 就要 过去 但 那 真正 温暖 的 春天 还 远远地 没有 到来 在 这样 雨雪 交加 的 日子 里 如果 没有 什么 紧要 事 人们 宁愿 一整天 足不出户\n",
      "在 这样 雨雪 交加 的 日子 里 如果 没有 什么 紧要 事 人们 宁愿 一整天 足不出户\n",
      "因此 县城 的 大街小巷 倒 也 比 平时 少 了 许多 嘈杂 冬天 残留 的 积雪 和 冰溜子 正在 雨点 的 敲击 下蚀 化石 板 街上 到处 都 漫流 着 肮脏 的 污水\n",
      "街巷 背阴 的 地方\n",
      "冬天 残留 的 积雪 和 冰溜子 正在 雨点 的 敲击 下蚀 化石 板 街上 到处 都 漫流 着 肮脏 的 污水 唉 城市 在 这样 的 日子 里 完全 丧失 了 生气 变得 没有 一点 可爱 之处 了\n",
      "风 依然 是 寒冷 的\n",
      "空荡荡 的 街道 上 有时 会 偶尔 走 过来 一个 乡下人 破 毡帽 护着 脑门 胳膊 上 挽 一 筐子 土豆 或 萝卜 有气无力 地 呼唤 着 买主 他们 把 碗筷 敲得 震天价响 踏泥 带水 叫 叫 嚷嚷 地 跑 过 院坝 向 南面 总务处 那 一排 窑洞 的 墙根 下 蜂涌 而 去\n",
      "唉 城市 在 这样 的 日子 里 完全 丧失 了 生气 变得 没有 一点 可爱 之处 了\n"
     ]
    }
   ],
   "source": [
    "with codecs.open(base_path+book_name, 'r', type) as f:\n",
    "  text = f.read()\n",
    "  sentences = re.split(\"(。|！|\\!|\\.|？|\\?)\", text)\n",
    "  print(\"there are \" + str(len(sentences)) + \" sentences in this novel!\")\n",
    "  \n",
    "  news_sents = []\n",
    "  \n",
    "  # for i in range((int)(len(sentences)/2)):\n",
    "  for i in range(10):\n",
    "    sent = sentences[2*i] + sentences[2*i + i]\n",
    "    news_sents.append(remove_punctuation(sent))\n",
    "\n",
    "  for sent in news_sents:\n",
    "    if sent != '':\n",
    "      split_sent = ' '.join(jieba.cut(sent, use_paddle=True))\n",
    "      print(split_sent)\n",
    "      \n",
    "          "
   ]
  },
  {
   "cell_type": "code",
   "execution_count": 10,
   "metadata": {},
   "outputs": [
    {
     "name": "stderr",
     "output_type": "stream",
     "text": [
      "Paddle enabled successfully......\n"
     ]
    },
    {
     "name": "stdout",
     "output_type": "stream",
     "text": [
      "started to generate corpus with stop words\n",
      "stop words dictionary has been loaded\n",
      "there are 56977 sentences in this novel\n",
      "novel finished generated\n"
     ]
    }
   ],
   "source": [
    "if __name__ == '__main__':\n",
    "  # generate_corpus()\n",
    "  generate_corpus_with_stopwords()"
   ]
  },
  {
   "cell_type": "code",
   "execution_count": 19,
   "metadata": {},
   "outputs": [
    {
     "name": "stdout",
     "output_type": "stream",
     "text": [
      "torch.return_types.sort(\n",
      "values=tensor([[[2, 3],\n",
      "         [5, 7]],\n",
      "\n",
      "        [[6, 8],\n",
      "         [7, 8]]], dtype=torch.int32),\n",
      "indices=tensor([[[0, 1],\n",
      "         [1, 0]],\n",
      "\n",
      "        [[0, 1],\n",
      "         [0, 1]]]))\n",
      "tensor([[[2, 3],\n",
      "         [7, 5]],\n",
      "\n",
      "        [[6, 8],\n",
      "         [7, 8]]], dtype=torch.int32)\n"
     ]
    }
   ],
   "source": [
    "import torch\n",
    "import numpy as np\n",
    "\n",
    "\n",
    "x1_np = np.array([[[2,3],[7,5]],[[6,8],[7,8]]])\n",
    "x1 = torch.from_numpy(x1_np)\n",
    "# x2_np = np.array([3,2])\n",
    "# x2 = torch.from_numpy(x2_np)\n",
    "\n",
    "# print(x1)\n",
    "# print(x2)\n",
    "\n",
    "# print(torch.mean(x1.float(), dim=0))\n",
    "print(torch.sort(x1, dim=2, descending=False))\n",
    "print(x1)"
   ]
  }
 ],
 "metadata": {
  "interpreter": {
   "hash": "63fd5069d213b44bf678585dea6b12cceca9941eaf7f819626cde1f2670de90d"
  },
  "kernelspec": {
   "display_name": "Python 3.9.5 64-bit",
   "language": "python",
   "name": "python3"
  },
  "language_info": {
   "codemirror_mode": {
    "name": "ipython",
    "version": 3
   },
   "file_extension": ".py",
   "mimetype": "text/x-python",
   "name": "python",
   "nbconvert_exporter": "python",
   "pygments_lexer": "ipython3",
   "version": "3.7.5"
  },
  "orig_nbformat": 4
 },
 "nbformat": 4,
 "nbformat_minor": 2
}
